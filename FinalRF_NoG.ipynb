{
  "nbformat": 4,
  "nbformat_minor": 0,
  "metadata": {
    "kernelspec": {
      "display_name": "Python 3",
      "language": "python",
      "name": "python3"
    },
    "language_info": {
      "codemirror_mode": {
        "name": "ipython",
        "version": 3
      },
      "file_extension": ".py",
      "mimetype": "text/x-python",
      "name": "python",
      "nbconvert_exporter": "python",
      "pygments_lexer": "ipython3",
      "version": "3.7.4"
    },
    "colab": {
      "name": "FinalRF_NoG.ipynb",
      "provenance": [],
      "collapsed_sections": [],
      "toc_visible": true,
      "include_colab_link": true
    }
  },
  "cells": [
    {
      "cell_type": "markdown",
      "metadata": {
        "id": "view-in-github",
        "colab_type": "text"
      },
      "source": [
        "<a href=\"https://colab.research.google.com/github/soumya17052002/Model-to-predict-corona-cases/blob/master/FinalRF_NoG.ipynb\" target=\"_parent\"><img src=\"https://colab.research.google.com/assets/colab-badge.svg\" alt=\"Open In Colab\"/></a>"
      ]
    },
    {
      "cell_type": "markdown",
      "metadata": {
        "id": "l56ItaGO3peA",
        "colab_type": "text"
      },
      "source": [
        "# Random Forest Regression\n",
        "\n",
        "We'll also try Random Forest regression on our data."
      ]
    },
    {
      "cell_type": "markdown",
      "metadata": {
        "id": "SZc7QLVp40Dm",
        "colab_type": "text"
      },
      "source": [
        "# Why random forest regression?\n",
        "\n",
        "## Features and Advantages of Random Forest :\n",
        "\n",
        " - It is one of the most accurate learning algorithms available. For many data sets, it produces a highly accurate classifier.\n",
        "\n",
        "\n",
        "- It runs efficiently on large databases.\n",
        "\n",
        "\n",
        "- It can handle thousands of input variables without variable deletion.\n",
        "\n",
        "\n",
        "- It gives estimates of what variables that are important in the classification.\n",
        "\n",
        "\n",
        "- It generates an internal unbiased estimate of the generalization error as the forest building progresses.\n",
        "\n",
        "\n",
        "- It has an effective method for estimating missing data and maintains accuracy when a large proportion of the data are missing."
      ]
    },
    {
      "cell_type": "code",
      "metadata": {
        "id": "YSi6JxhMwxzX",
        "colab_type": "code",
        "colab": {}
      },
      "source": [
        "import numpy as np\n",
        "import pandas as pd\n",
        "import matplotlib.pyplot as plt\n",
        "from sklearn.linear_model import LinearRegression \n",
        "from sklearn.preprocessing import PolynomialFeatures"
      ],
      "execution_count": null,
      "outputs": []
    },
    {
      "cell_type": "code",
      "metadata": {
        "id": "nz8xyL1Gwxzb",
        "colab_type": "code",
        "colab": {
          "base_uri": "https://localhost:8080/",
          "height": 419
        },
        "outputId": "e694a846-472e-483f-baab-8bcd5fee883f"
      },
      "source": [
        "data=pd.read_csv(\"india_daily_data.csv\")\n",
        "data"
      ],
      "execution_count": null,
      "outputs": [
        {
          "output_type": "execute_result",
          "data": {
            "text/html": [
              "<div>\n",
              "<style scoped>\n",
              "    .dataframe tbody tr th:only-of-type {\n",
              "        vertical-align: middle;\n",
              "    }\n",
              "\n",
              "    .dataframe tbody tr th {\n",
              "        vertical-align: top;\n",
              "    }\n",
              "\n",
              "    .dataframe thead th {\n",
              "        text-align: right;\n",
              "    }\n",
              "</style>\n",
              "<table border=\"1\" class=\"dataframe\">\n",
              "  <thead>\n",
              "    <tr style=\"text-align: right;\">\n",
              "      <th></th>\n",
              "      <th>date</th>\n",
              "      <th>totalconfirmed</th>\n",
              "      <th>totaldeceased</th>\n",
              "      <th>totalrecovered</th>\n",
              "      <th>dailyconfirmed</th>\n",
              "      <th>dailydeceased</th>\n",
              "      <th>dailyrecovered</th>\n",
              "    </tr>\n",
              "  </thead>\n",
              "  <tbody>\n",
              "    <tr>\n",
              "      <th>0</th>\n",
              "      <td>30 January</td>\n",
              "      <td>1</td>\n",
              "      <td>0</td>\n",
              "      <td>0</td>\n",
              "      <td>1</td>\n",
              "      <td>0</td>\n",
              "      <td>0</td>\n",
              "    </tr>\n",
              "    <tr>\n",
              "      <th>1</th>\n",
              "      <td>31 January</td>\n",
              "      <td>1</td>\n",
              "      <td>0</td>\n",
              "      <td>0</td>\n",
              "      <td>0</td>\n",
              "      <td>0</td>\n",
              "      <td>0</td>\n",
              "    </tr>\n",
              "    <tr>\n",
              "      <th>2</th>\n",
              "      <td>01 February</td>\n",
              "      <td>1</td>\n",
              "      <td>0</td>\n",
              "      <td>0</td>\n",
              "      <td>0</td>\n",
              "      <td>0</td>\n",
              "      <td>0</td>\n",
              "    </tr>\n",
              "    <tr>\n",
              "      <th>3</th>\n",
              "      <td>02 February</td>\n",
              "      <td>2</td>\n",
              "      <td>0</td>\n",
              "      <td>0</td>\n",
              "      <td>1</td>\n",
              "      <td>0</td>\n",
              "      <td>0</td>\n",
              "    </tr>\n",
              "    <tr>\n",
              "      <th>4</th>\n",
              "      <td>03 February</td>\n",
              "      <td>3</td>\n",
              "      <td>0</td>\n",
              "      <td>0</td>\n",
              "      <td>1</td>\n",
              "      <td>0</td>\n",
              "      <td>0</td>\n",
              "    </tr>\n",
              "    <tr>\n",
              "      <th>...</th>\n",
              "      <td>...</td>\n",
              "      <td>...</td>\n",
              "      <td>...</td>\n",
              "      <td>...</td>\n",
              "      <td>...</td>\n",
              "      <td>...</td>\n",
              "      <td>...</td>\n",
              "    </tr>\n",
              "    <tr>\n",
              "      <th>123</th>\n",
              "      <td>01 June</td>\n",
              "      <td>198372</td>\n",
              "      <td>5607</td>\n",
              "      <td>95744</td>\n",
              "      <td>7723</td>\n",
              "      <td>201</td>\n",
              "      <td>3882</td>\n",
              "    </tr>\n",
              "    <tr>\n",
              "      <th>124</th>\n",
              "      <td>02 June</td>\n",
              "      <td>207187</td>\n",
              "      <td>5829</td>\n",
              "      <td>100275</td>\n",
              "      <td>8815</td>\n",
              "      <td>222</td>\n",
              "      <td>4531</td>\n",
              "    </tr>\n",
              "    <tr>\n",
              "      <th>125</th>\n",
              "      <td>03 June</td>\n",
              "      <td>216876</td>\n",
              "      <td>6088</td>\n",
              "      <td>104064</td>\n",
              "      <td>9689</td>\n",
              "      <td>259</td>\n",
              "      <td>3789</td>\n",
              "    </tr>\n",
              "    <tr>\n",
              "      <th>126</th>\n",
              "      <td>04 June</td>\n",
              "      <td>226723</td>\n",
              "      <td>6362</td>\n",
              "      <td>108454</td>\n",
              "      <td>9847</td>\n",
              "      <td>274</td>\n",
              "      <td>4390</td>\n",
              "    </tr>\n",
              "    <tr>\n",
              "      <th>127</th>\n",
              "      <td>05 June</td>\n",
              "      <td>236185</td>\n",
              "      <td>6648</td>\n",
              "      <td>113233</td>\n",
              "      <td>9462</td>\n",
              "      <td>286</td>\n",
              "      <td>4779</td>\n",
              "    </tr>\n",
              "  </tbody>\n",
              "</table>\n",
              "<p>128 rows × 7 columns</p>\n",
              "</div>"
            ],
            "text/plain": [
              "             date  totalconfirmed  ...  dailydeceased  dailyrecovered\n",
              "0     30 January                1  ...              0               0\n",
              "1     31 January                1  ...              0               0\n",
              "2    01 February                1  ...              0               0\n",
              "3    02 February                2  ...              0               0\n",
              "4    03 February                3  ...              0               0\n",
              "..            ...             ...  ...            ...             ...\n",
              "123      01 June           198372  ...            201            3882\n",
              "124      02 June           207187  ...            222            4531\n",
              "125      03 June           216876  ...            259            3789\n",
              "126      04 June           226723  ...            274            4390\n",
              "127      05 June           236185  ...            286            4779\n",
              "\n",
              "[128 rows x 7 columns]"
            ]
          },
          "metadata": {
            "tags": []
          },
          "execution_count": 3
        }
      ]
    },
    {
      "cell_type": "code",
      "metadata": {
        "id": "eiGq6VodxDDd",
        "colab_type": "code",
        "colab": {}
      },
      "source": [
        "active_cases=data['totalconfirmed']-data['totalrecovered']-data['totaldeceased']\n",
        "data.insert(4,\"activecases\",active_cases,True)"
      ],
      "execution_count": null,
      "outputs": []
    },
    {
      "cell_type": "code",
      "metadata": {
        "id": "paaWl4DoxJSh",
        "colab_type": "code",
        "colab": {}
      },
      "source": [
        "ar=list(range(1,129))\n",
        "data.insert(0,\"Sl.No.\",ar,True)"
      ],
      "execution_count": null,
      "outputs": []
    },
    {
      "cell_type": "code",
      "metadata": {
        "id": "AeaZpKkJwxzf",
        "colab_type": "code",
        "colab": {}
      },
      "source": [
        "X = data.iloc[:,[0,4]].values\n",
        "y = data.iloc[:,4].values"
      ],
      "execution_count": null,
      "outputs": []
    },
    {
      "cell_type": "code",
      "metadata": {
        "id": "wd-IBBpBwxzi",
        "colab_type": "code",
        "colab": {
          "base_uri": "https://localhost:8080/",
          "height": 317
        },
        "outputId": "812f7e37-43c3-4d8d-87db-029b22623189"
      },
      "source": [
        "data.describe()"
      ],
      "execution_count": null,
      "outputs": [
        {
          "output_type": "execute_result",
          "data": {
            "text/html": [
              "<div>\n",
              "<style scoped>\n",
              "    .dataframe tbody tr th:only-of-type {\n",
              "        vertical-align: middle;\n",
              "    }\n",
              "\n",
              "    .dataframe tbody tr th {\n",
              "        vertical-align: top;\n",
              "    }\n",
              "\n",
              "    .dataframe thead th {\n",
              "        text-align: right;\n",
              "    }\n",
              "</style>\n",
              "<table border=\"1\" class=\"dataframe\">\n",
              "  <thead>\n",
              "    <tr style=\"text-align: right;\">\n",
              "      <th></th>\n",
              "      <th>Sl.No.</th>\n",
              "      <th>totalconfirmed</th>\n",
              "      <th>totaldeceased</th>\n",
              "      <th>totalrecovered</th>\n",
              "      <th>activecases</th>\n",
              "      <th>dailyconfirmed</th>\n",
              "      <th>dailydeceased</th>\n",
              "      <th>dailyrecovered</th>\n",
              "    </tr>\n",
              "  </thead>\n",
              "  <tbody>\n",
              "    <tr>\n",
              "      <th>count</th>\n",
              "      <td>128.000000</td>\n",
              "      <td>128.000000</td>\n",
              "      <td>128.000000</td>\n",
              "      <td>128.000000</td>\n",
              "      <td>128.000000</td>\n",
              "      <td>128.000000</td>\n",
              "      <td>128.000000</td>\n",
              "      <td>128.000000</td>\n",
              "    </tr>\n",
              "    <tr>\n",
              "      <th>mean</th>\n",
              "      <td>64.500000</td>\n",
              "      <td>36210.460938</td>\n",
              "      <td>1089.820312</td>\n",
              "      <td>14266.234375</td>\n",
              "      <td>20854.406250</td>\n",
              "      <td>1845.195312</td>\n",
              "      <td>51.937500</td>\n",
              "      <td>884.632812</td>\n",
              "    </tr>\n",
              "    <tr>\n",
              "      <th>std</th>\n",
              "      <td>37.094474</td>\n",
              "      <td>59493.229979</td>\n",
              "      <td>1720.659951</td>\n",
              "      <td>27269.765405</td>\n",
              "      <td>30959.858809</td>\n",
              "      <td>2679.184954</td>\n",
              "      <td>71.932903</td>\n",
              "      <td>1632.245397</td>\n",
              "    </tr>\n",
              "    <tr>\n",
              "      <th>min</th>\n",
              "      <td>1.000000</td>\n",
              "      <td>1.000000</td>\n",
              "      <td>0.000000</td>\n",
              "      <td>0.000000</td>\n",
              "      <td>0.000000</td>\n",
              "      <td>0.000000</td>\n",
              "      <td>0.000000</td>\n",
              "      <td>0.000000</td>\n",
              "    </tr>\n",
              "    <tr>\n",
              "      <th>25%</th>\n",
              "      <td>32.750000</td>\n",
              "      <td>4.500000</td>\n",
              "      <td>0.000000</td>\n",
              "      <td>3.000000</td>\n",
              "      <td>3.000000</td>\n",
              "      <td>1.000000</td>\n",
              "      <td>0.000000</td>\n",
              "      <td>0.000000</td>\n",
              "    </tr>\n",
              "    <tr>\n",
              "      <th>50%</th>\n",
              "      <td>64.500000</td>\n",
              "      <td>2825.000000</td>\n",
              "      <td>76.000000</td>\n",
              "      <td>210.500000</td>\n",
              "      <td>2538.500000</td>\n",
              "      <td>485.000000</td>\n",
              "      <td>14.000000</td>\n",
              "      <td>37.000000</td>\n",
              "    </tr>\n",
              "    <tr>\n",
              "      <th>75%</th>\n",
              "      <td>96.250000</td>\n",
              "      <td>47176.750000</td>\n",
              "      <td>1598.000000</td>\n",
              "      <td>13168.750000</td>\n",
              "      <td>32410.000000</td>\n",
              "      <td>3022.000000</td>\n",
              "      <td>93.250000</td>\n",
              "      <td>1089.250000</td>\n",
              "    </tr>\n",
              "    <tr>\n",
              "      <th>max</th>\n",
              "      <td>128.000000</td>\n",
              "      <td>236185.000000</td>\n",
              "      <td>6648.000000</td>\n",
              "      <td>113233.000000</td>\n",
              "      <td>116304.000000</td>\n",
              "      <td>9847.000000</td>\n",
              "      <td>286.000000</td>\n",
              "      <td>11735.000000</td>\n",
              "    </tr>\n",
              "  </tbody>\n",
              "</table>\n",
              "</div>"
            ],
            "text/plain": [
              "           Sl.No.  totalconfirmed  ...  dailydeceased  dailyrecovered\n",
              "count  128.000000      128.000000  ...     128.000000      128.000000\n",
              "mean    64.500000    36210.460938  ...      51.937500      884.632812\n",
              "std     37.094474    59493.229979  ...      71.932903     1632.245397\n",
              "min      1.000000        1.000000  ...       0.000000        0.000000\n",
              "25%     32.750000        4.500000  ...       0.000000        0.000000\n",
              "50%     64.500000     2825.000000  ...      14.000000       37.000000\n",
              "75%     96.250000    47176.750000  ...      93.250000     1089.250000\n",
              "max    128.000000   236185.000000  ...     286.000000    11735.000000\n",
              "\n",
              "[8 rows x 8 columns]"
            ]
          },
          "metadata": {
            "tags": []
          },
          "execution_count": 7
        }
      ]
    },
    {
      "cell_type": "markdown",
      "metadata": {
        "id": "HU70hr3n34Ul",
        "colab_type": "text"
      },
      "source": [
        "## Fitting the model"
      ]
    },
    {
      "cell_type": "code",
      "metadata": {
        "id": "d-WCTJoAwxzl",
        "colab_type": "code",
        "colab": {
          "base_uri": "https://localhost:8080/",
          "height": 136
        },
        "outputId": "0e46c850-c069-4f9c-b4f3-cdd2558d2a0f"
      },
      "source": [
        "# Fitting Random Forest Regression to the dataset\n",
        "from sklearn.ensemble import RandomForestRegressor\n",
        "regressor = RandomForestRegressor(n_estimators = 10, random_state = 0)\n",
        "regressor.fit(X, y)"
      ],
      "execution_count": null,
      "outputs": [
        {
          "output_type": "execute_result",
          "data": {
            "text/plain": [
              "RandomForestRegressor(bootstrap=True, ccp_alpha=0.0, criterion='mse',\n",
              "                      max_depth=None, max_features='auto', max_leaf_nodes=None,\n",
              "                      max_samples=None, min_impurity_decrease=0.0,\n",
              "                      min_impurity_split=None, min_samples_leaf=1,\n",
              "                      min_samples_split=2, min_weight_fraction_leaf=0.0,\n",
              "                      n_estimators=10, n_jobs=None, oob_score=False,\n",
              "                      random_state=0, verbose=0, warm_start=False)"
            ]
          },
          "metadata": {
            "tags": []
          },
          "execution_count": 8
        }
      ]
    },
    {
      "cell_type": "code",
      "metadata": {
        "id": "ZZt6ifn4wxzo",
        "colab_type": "code",
        "colab": {}
      },
      "source": [
        "y_pred = regressor.predict(X)"
      ],
      "execution_count": null,
      "outputs": []
    },
    {
      "cell_type": "code",
      "metadata": {
        "id": "Be5Rmg6iwxzq",
        "colab_type": "code",
        "colab": {
          "base_uri": "https://localhost:8080/",
          "height": 1000
        },
        "outputId": "76acb36a-309d-430c-c3d1-60a50750f385"
      },
      "source": [
        "for i in y_pred:\n",
        "    print(round(i,0))"
      ],
      "execution_count": null,
      "outputs": [
        {
          "output_type": "stream",
          "text": [
            "0.0\n",
            "0.0\n",
            "0.0\n",
            "0.0\n",
            "0.0\n",
            "0.0\n",
            "0.0\n",
            "0.0\n",
            "0.0\n",
            "0.0\n",
            "0.0\n",
            "0.0\n",
            "0.0\n",
            "0.0\n",
            "1.0\n",
            "1.0\n",
            "1.0\n",
            "2.0\n",
            "2.0\n",
            "2.0\n",
            "2.0\n",
            "3.0\n",
            "3.0\n",
            "3.0\n",
            "3.0\n",
            "3.0\n",
            "3.0\n",
            "3.0\n",
            "3.0\n",
            "3.0\n",
            "3.0\n",
            "3.0\n",
            "3.0\n",
            "3.0\n",
            "3.0\n",
            "3.0\n",
            "3.0\n",
            "3.0\n",
            "3.0\n",
            "3.0\n",
            "4.0\n",
            "4.0\n",
            "4.0\n",
            "10.0\n",
            "11.0\n",
            "13.0\n",
            "14.0\n",
            "15.0\n",
            "15.0\n",
            "21.0\n",
            "23.0\n",
            "23.0\n",
            "23.0\n",
            "24.0\n",
            "36.0\n",
            "45.0\n",
            "55.0\n",
            "77.0\n",
            "81.0\n",
            "100.0\n",
            "134.0\n",
            "144.0\n",
            "167.0\n",
            "187.0\n",
            "222.0\n",
            "272.0\n",
            "315.0\n",
            "369.0\n",
            "464.0\n",
            "529.0\n",
            "621.0\n",
            "767.0\n",
            "976.0\n",
            "1045.0\n",
            "1173.0\n",
            "1394.0\n",
            "1466.0\n",
            "1717.0\n",
            "1975.0\n",
            "2431.0\n",
            "2899.0\n",
            "3025.0\n",
            "3572.0\n",
            "4516.0\n",
            "4965.0\n",
            "5536.0\n",
            "5717.0\n",
            "6536.0\n",
            "7062.0\n",
            "7686.0\n",
            "8486.0\n",
            "8966.0\n",
            "10008.0\n",
            "10694.0\n",
            "11250.0\n",
            "13112.0\n",
            "14229.0\n",
            "14939.0\n",
            "16438.0\n",
            "17584.0\n",
            "18089.0\n",
            "21625.0\n",
            "22740.0\n",
            "23882.0\n",
            "26380.0\n",
            "27177.0\n",
            "29060.0\n",
            "33277.0\n",
            "37960.0\n",
            "38710.0\n",
            "42950.0\n",
            "45424.0\n",
            "47614.0\n",
            "52020.0\n",
            "53965.0\n",
            "57081.0\n",
            "60821.0\n",
            "63917.0\n",
            "67631.0\n",
            "69243.0\n",
            "81575.0\n",
            "86073.0\n",
            "92146.0\n",
            "94968.0\n",
            "99674.0\n",
            "105002.0\n",
            "107137.0\n",
            "110882.0\n"
          ],
          "name": "stdout"
        }
      ]
    },
    {
      "cell_type": "markdown",
      "metadata": {
        "id": "w_mikV_Z4Ctg",
        "colab_type": "text"
      },
      "source": [
        "# Metrics"
      ]
    },
    {
      "cell_type": "markdown",
      "metadata": {
        "id": "uNCTXc2V4HCD",
        "colab_type": "text"
      },
      "source": [
        "Let's see how well our model has fit."
      ]
    },
    {
      "cell_type": "code",
      "metadata": {
        "id": "yNrwG6ojwxzt",
        "colab_type": "code",
        "colab": {}
      },
      "source": [
        "import sklearn.metrics as metrics\n",
        "from sklearn.model_selection import cross_val_score as cvs\n",
        "def regression_results(y_true, y_pred):\n",
        "\n",
        "    # Regression metrics\n",
        "    explained_variance=metrics.explained_variance_score(y_true, y_pred)\n",
        "    mean_absolute_error=metrics.mean_absolute_error(y_true, y_pred) \n",
        "    mse=metrics.mean_squared_error(y_true, y_pred) \n",
        "    mean_squared_log_error=metrics.mean_squared_log_error(y_true, y_pred)\n",
        "    median_absolute_error=metrics.median_absolute_error(y_true, y_pred)\n",
        "    r2=metrics.r2_score(y_true, y_pred)\n",
        "    accuracy = cvs(estimator = regressor,X=X,y=y,cv=10)\n",
        "\n",
        "    print('explained_variance: ', round(explained_variance,4))    \n",
        "    print('mean_squared_log_error: ', round(mean_squared_log_error,4))\n",
        "    print('r2: ', round(r2,4))\n",
        "    print('MAE: ', round(mean_absolute_error,4))\n",
        "    print('MSE: ', round(mse,4))\n",
        "    print('RMSE: ', round(np.sqrt(mse),4))"
      ],
      "execution_count": null,
      "outputs": []
    },
    {
      "cell_type": "code",
      "metadata": {
        "id": "7nj3m_lvwxzv",
        "colab_type": "code",
        "colab": {
          "base_uri": "https://localhost:8080/",
          "height": 119
        },
        "outputId": "078cd1aa-3b30-49e9-98b9-625bed9c1666"
      },
      "source": [
        "regression_results(y,y_pred)"
      ],
      "execution_count": null,
      "outputs": [
        {
          "output_type": "stream",
          "text": [
            "explained_variance:  0.9998\n",
            "mean_squared_log_error:  0.0014\n",
            "r2:  0.9997\n",
            "MAE:  191.9016\n",
            "MSE:  186537.6708\n",
            "RMSE:  431.9001\n"
          ],
          "name": "stdout"
        }
      ]
    }
  ]
}